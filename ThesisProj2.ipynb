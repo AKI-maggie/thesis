{
  "nbformat": 4,
  "nbformat_minor": 0,
  "metadata": {
    "colab": {
      "name": "ThesisProj2.ipynb",
      "provenance": [],
      "authorship_tag": "ABX9TyOJ+j91cycGqRZrcUwRjQDF",
      "include_colab_link": true
    },
    "kernelspec": {
      "name": "python3",
      "display_name": "Python 3"
    }
  },
  "cells": [
    {
      "cell_type": "markdown",
      "metadata": {
        "id": "view-in-github",
        "colab_type": "text"
      },
      "source": [
        "<a href=\"https://colab.research.google.com/github/AKI-maggie/thesis/blob/master/ThesisProj2.ipynb\" target=\"_parent\"><img src=\"https://colab.research.google.com/assets/colab-badge.svg\" alt=\"Open In Colab\"/></a>"
      ]
    },
    {
      "cell_type": "markdown",
      "metadata": {
        "id": "pQVvcb07e9UH",
        "colab_type": "text"
      },
      "source": [
        "# Thesis Project PART II\n",
        "This notebook contains the program which re-implemented the algorithms and learning models introduced in the paper of \"KE-GAN: Knowledge Embedded Generative Adversarial Networks for Semi-Supervised Scene Parsing\".\n",
        "In this part, the notebook expects to fulfill all implements in the original paper and starts to do all data testings."
      ]
    },
    {
      "cell_type": "code",
      "metadata": {
        "id": "xKU7f-ube6rl",
        "colab_type": "code",
        "colab": {}
      },
      "source": [
        ""
      ],
      "execution_count": 0,
      "outputs": []
    },
    {
      "cell_type": "code",
      "metadata": {
        "id": "99hF4RjAfCte",
        "colab_type": "code",
        "colab": {}
      },
      "source": [
        ""
      ],
      "execution_count": 0,
      "outputs": []
    }
  ]
}